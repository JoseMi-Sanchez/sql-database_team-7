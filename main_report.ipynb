{
 "cells": [
  {
   "cell_type": "code",
   "execution_count": null,
   "metadata": {},
   "outputs": [],
   "source": [
    "import os\n",
    "import matplotlib.pyplot as plt\n",
    "from IPython.display import IFrame, display\n",
    "from report_functions import (\n",
    "    get_database_connection,\n",
    "    plot_capacity_classification,\n",
    "    plot_capacity_map,\n",
    "    plot_hosts_by_listings,\n",
    "    display_top_hosts\n",
    ")\n",
    "import getpass\n",
    "\n",
    "# Obtener la contraseña de forma segura\n",
    "password = getpass.getpass(\"Enter MySQL password: \")\n",
    "\n",
    "# Configura la conexión a la base de datos\n",
    "engine = get_database_connection(password)\n",
    "\n",
    "# Ejecutar las funciones para generar gráficos y mapas\n",
    "plot_capacity_classification(engine)\n",
    "plot_hosts_by_listings(engine)\n",
    "display_top_hosts(engine)\n",
    "\n",
    "# Llamar a la función para crear y guardar el mapa\n",
    "plot_capacity_map(engine)\n",
    "\n",
    "# Verificar si el archivo del mapa existe\n",
    "map_file = 'airbnb_map.html'\n",
    "if os.path.exists(map_file):\n",
    "    # Mostrar el mapa en el notebook\n",
    "    display(IFrame(map_file, width=800, height=600))\n",
    "else:\n",
    "    print(f\"El archivo {map_file} no se ha encontrado. Asegúrate de que el mapa se haya creado correctamente.\")\n"
   ]
  }
 ],
 "metadata": {
  "kernelspec": {
   "display_name": "Python (project3)",
   "language": "python",
   "name": "project3"
  },
  "language_info": {
   "codemirror_mode": {
    "name": "ipython",
    "version": 3
   },
   "file_extension": ".py",
   "mimetype": "text/x-python",
   "name": "python",
   "nbconvert_exporter": "python",
   "pygments_lexer": "ipython3",
   "version": "3.11.9"
  }
 },
 "nbformat": 4,
 "nbformat_minor": 2
}
